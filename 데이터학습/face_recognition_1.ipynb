{
  "nbformat": 4,
  "nbformat_minor": 0,
  "metadata": {
    "colab": {
      "provenance": [],
      "authorship_tag": "ABX9TyOfkxlDM321Om5Behucipuh"
    },
    "kernelspec": {
      "name": "python3",
      "display_name": "Python 3"
    },
    "language_info": {
      "name": "python"
    }
  },
  "cells": [
    {
      "cell_type": "code",
      "execution_count": null,
      "metadata": {
        "id": "vo0f5ucnt79s"
      },
      "outputs": [],
      "source": [
        "import cv2\n",
        "import numpy as np"
      ]
    },
    {
      "cell_type": "code",
      "source": [
        "recognizer = cv2.face.LBPHFaceRecognizer_create()\n",
        "recognizer.read('trainer/trainer.yml')\n",
        "cascadePath = 'haarcascades/haarcascade_frontalface_default.xml'\n",
        "faceCascade = cv2.CascadeClassifier(cascadePath)\n",
        "\n",
        "font = cv2.FONT_HERSHEY_SIMPLEX\n",
        "\n",
        "id = 0\n",
        "\n",
        "names = ['None', 'stud1', 'stud2', 'stud3']"
      ],
      "metadata": {
        "id": "6ALTtcb8uVRc"
      },
      "execution_count": null,
      "outputs": []
    },
    {
      "cell_type": "code",
      "source": [
        "cam = cv2.VideoCapture(0)\n",
        "cam.set(cv2.CAP_PROP_FRAME_WIDTH, 1980)\n",
        "cam.set(cv2.CAP_PROP_FRAME_HEIGHT, 720)\n",
        "\n",
        "minW = 0.1 * cam.get(cv2.CAP_PROP_FRAME_WIDTH)\n",
        "minH = 0.1 * cam.get(cv2.CAP_PROP_FRAME_HEIGHT)"
      ],
      "metadata": {
        "id": "QSyVoq4ovCtD"
      },
      "execution_count": null,
      "outputs": []
    },
    {
      "cell_type": "code",
      "source": [
        "while True:\n",
        "    ret, img = cam.read()\n",
        "    gray = cv2.cvtColor(img, cv2.COLOR_BGR2GRAY)\n",
        "\n",
        "    faces = faceCascade.detectMultiScale(\n",
        "        gray,\n",
        "        scaleFactor=1.2,\n",
        "        minNeighbors=6,\n",
        "        minSize=(int(minW), int(minH))\n",
        "    )\n",
        "\n",
        "    for(x,y,w,h) in faces:\n",
        "        cv2.rectangle(img, (x,y), (x+w,y+h), (0,255,0),2)\n",
        "        id, confidence = recognizer.predict(gray[y:y+h, x:x+w])\n",
        "\n",
        "        if confidence < 55 :\n",
        "            id = names[id]\n",
        "        else:\n",
        "            id = \"unknown\"\n",
        "        \n",
        "        confidence = \"  {0}%\".format(round(100-confidence))\n",
        "\n",
        "        cv2.putText(img,str(id), (x+5,y-5),font,1,(255,255,255),2)\n",
        "        cv2.putText(img,str(confidence), (x+5,y+h-5),font,1,(255,255,0),1)\n",
        "    \n",
        "    cv2.imshow('camera',img)\n",
        "    if cv2.waitKey(1) > 0 : break\n",
        "\n",
        "print(\"\\n [INFO] Exiting Program and cleanup stuff\")\n",
        "cam.release()\n",
        "cv2.destroyAllWindows()"
      ],
      "metadata": {
        "id": "ugZbo5LKvFyY"
      },
      "execution_count": null,
      "outputs": []
    }
  ]
}
